{
 "cells": [
  {
   "cell_type": "markdown",
   "id": "94fb5225",
   "metadata": {},
   "source": [
    "## Weitere Beispiele für Funktionen\n",
    "\n",
    "In diesem Abschnitt werden weitere Funktionen als Beispiele gegeben und verwendet.\n",
    "Es gibt auch eine Reihe an kleinen Aufgaben, diese Funktionen bzw. ihre Verwendung abzuändern."
   ]
  },
  {
   "cell_type": "markdown",
   "id": "6fb45dea",
   "metadata": {
    "vscode": {
     "languageId": "cpp"
    }
   },
   "source": [
    "Wir beginnen mit den `include`-Anweisungen, die für das gesamte Notebook benötigt werden."
   ]
  },
  {
   "cell_type": "code",
   "execution_count": null,
   "id": "2c385bb7",
   "metadata": {
    "vscode": {
     "languageId": "cpp"
    }
   },
   "outputs": [],
   "source": [
    "#include <iostream>"
   ]
  },
  {
   "cell_type": "markdown",
   "id": "5c0f2145",
   "metadata": {},
   "source": [
    "### Fakultät\n",
    "\n",
    "Die folgende Zelle definiert die Fakultätsfunktion.\n",
    "Diese Funktion erwartet eine Zahl $n$ vom Typ `int` und berechnet das Produkt\n",
    "der natürlichen Zahlen von $1$ bis $n$:"
   ]
  },
  {
   "cell_type": "code",
   "execution_count": null,
   "id": "af4ba148",
   "metadata": {
    "vscode": {
     "languageId": "cpp"
    }
   },
   "outputs": [],
   "source": [
    "int factorial(int n) {\n",
    "    int result = 1;\n",
    "    for (int i = 1; i <= n; ++i) {\n",
    "        result *= i;\n",
    "    }\n",
    "    return result;\n",
    "}"
   ]
  },
  {
   "cell_type": "markdown",
   "id": "4b0f8050",
   "metadata": {},
   "source": [
    "Wir verwenden die Funktion, um nacheinander die Fakultäten von $0$, $1$, $2$, $3$ und $4$ zu berechnen\n",
    "und geben die Ergebnisse aus:"
   ]
  },
  {
   "cell_type": "code",
   "execution_count": null,
   "id": "8f309e4f",
   "metadata": {
    "vscode": {
     "languageId": "cpp"
    }
   },
   "outputs": [],
   "source": [
    "std::cout << \"0! == \" << factorial(0) << std::endl;\n",
    "std::cout << \"1! == \" << factorial(1) << std::endl;\n",
    "std::cout << \"2! == \" << factorial(2) << std::endl;\n",
    "std::cout << \"3! == \" << factorial(3) << std::endl;\n",
    "std::cout << \"4! == \" << factorial(4) << std::endl;"
   ]
  },
  {
   "cell_type": "markdown",
   "id": "413fd34c",
   "metadata": {},
   "source": [
    "### Fibonacci-Funktion\n",
    "\n",
    "Die folgende Zelle definiert eine Funktion `fib`, die eine Zahl `n` erwartet und die\n",
    "die `n`-te Fibonacci-Zahl zurückgibt.\n",
    "\n",
    "Die Fibonacci-Zahl $fib(n)$ ist definiert als\n",
    "$$\n",
    "fib(n) = \\begin{cases}\n",
    "    1 & \\text{wenn } n = 0 \\text{ oder } n = 1 \\\\\n",
    "    fib(n-1) + fib(n-2) & \\text{sonst}\n",
    "\\end{cases}\n",
    "$$"
   ]
  },
  {
   "cell_type": "code",
   "execution_count": null,
   "id": "2fe31cc3",
   "metadata": {
    "vscode": {
     "languageId": "cpp"
    }
   },
   "outputs": [],
   "source": [
    "int fib(int n) {\n",
    "    if (n <= 1) return 1;\n",
    "    return fib(n - 1) + fib(n - 2);\n",
    "}"
   ]
  },
  {
   "cell_type": "markdown",
   "id": "2eeb87d9",
   "metadata": {},
   "source": [
    "Als nächstes verwenden wir die Funktion `fib` um die Fibonacci-Zahlen $fib(0)$ bis $fib(4)$ zu berechnen und auszugeben."
   ]
  },
  {
   "cell_type": "code",
   "execution_count": null,
   "id": "6c74dbc1",
   "metadata": {
    "vscode": {
     "languageId": "cpp"
    }
   },
   "outputs": [],
   "source": [
    "std::cout << \"fib(\" << 0 << \") = \" << fib(0) << std::endl;\n",
    "std::cout << \"fib(\" << 1 << \") = \" << fib(1) << std::endl;\n",
    "std::cout << \"fib(\" << 2 << \") = \" << fib(2) << std::endl;\n",
    "std::cout << \"fib(\" << 3 << \") = \" << fib(3) << std::endl;\n",
    "std::cout << \"fib(\" << 4 << \") = \" << fib(4) << std::endl;"
   ]
  },
  {
   "cell_type": "markdown",
   "id": "18cd35b9",
   "metadata": {},
   "source": [
    "Alternativ kann man die Zahlen auch nebeneinander ausgeben.\n",
    "Dazu ersetzen wir i.W. das `std::endl` durch ein Leerzeichen und lassen\n",
    "der Übersicht halber die Ausgabe der \"fib()\"-Strings weg:"
   ]
  },
  {
   "cell_type": "code",
   "execution_count": null,
   "id": "d83777d6",
   "metadata": {
    "vscode": {
     "languageId": "cpp"
    }
   },
   "outputs": [],
   "source": [
    "std::cout << fib(0) << \" \";\n",
    "std::cout << fib(1) << \" \";\n",
    "std::cout << fib(2) << \" \";\n",
    "std::cout << fib(3) << \" \";\n",
    "std::cout << fib(4) << \" \";"
   ]
  },
  {
   "cell_type": "markdown",
   "id": "81eb145b",
   "metadata": {},
   "source": [
    "### Primzahltest\n",
    "\n",
    "Die folgende Funktion erwartet eine Zahl `n` und gibt `true` zurück, wenn die Zahl eine Primzahl ist."
   ]
  },
  {
   "cell_type": "code",
   "execution_count": null,
   "id": "e626ccb9",
   "metadata": {
    "vscode": {
     "languageId": "cpp"
    }
   },
   "outputs": [],
   "source": [
    "bool is_prime(int n) {\n",
    "    if (n <= 1) return false;\n",
    "    for (int i = 2; i * i <= n; ++i) {\n",
    "        if (n % i == 0) return false;\n",
    "    }\n",
    "    return true;\n",
    "}"
   ]
  },
  {
   "cell_type": "markdown",
   "id": "c1e83b16",
   "metadata": {
    "vscode": {
     "languageId": "cpp"
    }
   },
   "source": [
    "Wir verwenden die Funktion wieder wie in den vorherigen Beispielen:"
   ]
  },
  {
   "cell_type": "code",
   "execution_count": null,
   "id": "b19b5a2c",
   "metadata": {
    "vscode": {
     "languageId": "cpp"
    }
   },
   "outputs": [],
   "source": [
    "std::cout << \"is_prime(\" << 0 << \") = \" << is_prime(0) << std::endl;\n",
    "std::cout << \"is_prime(\" << 1 << \") = \" << is_prime(1) << std::endl;\n",
    "std::cout << \"is_prime(\" << 2 << \") = \" << is_prime(2) << std::endl;\n",
    "std::cout << \"is_prime(\" << 3 << \") = \" << is_prime(3) << std::endl;\n",
    "std::cout << \"is_prime(\" << 4 << \") = \" << is_prime(4) << std::endl;"
   ]
  },
  {
   "cell_type": "code",
   "execution_count": null,
   "id": "0eb752c8",
   "metadata": {
    "vscode": {
     "languageId": "cpp"
    }
   },
   "outputs": [],
   "source": []
  }
 ],
 "metadata": {
  "kernelspec": {
   "display_name": "C++20",
   "language": "cpp",
   "name": "xcpp20"
  },
  "language_info": {
   "codemirror_mode": "text/x-c++src",
   "file_extension": ".cpp",
   "mimetype": "text/x-c++src",
   "name": "C++",
   "version": "20"
  }
 },
 "nbformat": 4,
 "nbformat_minor": 5
}

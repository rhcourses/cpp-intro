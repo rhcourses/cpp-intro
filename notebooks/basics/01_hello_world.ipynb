{
 "cells": [
  {
   "cell_type": "markdown",
   "id": "1f45ca97",
   "metadata": {},
   "source": [
    "## Einstieg: Hallo Welt\n",
    "\n",
    "Wie bei neuen Programmiersprachen üblich, beginnen wir mit dem klassischen \"Hallo Welt\"-Programm.\n",
    "Führen Sie die folgende Code-Zelle aus (SHIFT+ENTER), um eine Funktion mit dem Namen `main` zu erstellen, die den Text \"Hallo Welt\" ausgibt:"
   ]
  },
  {
   "cell_type": "code",
   "execution_count": null,
   "id": "d2c8fc99",
   "metadata": {
    "vscode": {
     "languageId": "cpp"
    }
   },
   "outputs": [],
   "source": [
    "#include<iostream>\n",
    "\n",
    "int main() {\n",
    "    std::cout << \"Hello, World!\" << std::endl;\n",
    "    return 0;\n",
    "}"
   ]
  },
  {
   "cell_type": "markdown",
   "id": "35a4c3b5",
   "metadata": {},
   "source": [
    "Das Ausführen der Zelle hat noch keinen sichtbaren Effekt, es definiert lediglich die Funktion `main`.\n",
    "Um die Funktion auszuführen, geben wir in der nächsten Code-Zelle `main()` ein und führen diese aus.\n",
    "\n",
    "Wäre das obige Programm in einer Quelldatei gespeichert, entspricht dies dem Übersetzen (Compilieren)\n",
    "und Ausführen des Programms."
   ]
  },
  {
   "cell_type": "code",
   "execution_count": null,
   "id": "37458327",
   "metadata": {
    "vscode": {
     "languageId": "cpp"
    }
   },
   "outputs": [],
   "source": [
    "main()"
   ]
  },
  {
   "cell_type": "markdown",
   "id": "69ea2d23",
   "metadata": {},
   "source": [
    "Die Funktion `main` ist der Einstiegspunkt des Programms.\n",
    "D.h. diese Funktion wird ausgeführt, wenn das Programm gestartet wird.\n",
    "Innerhalb der Funktion `main` verwenden wir das Objekt `cout` aus dem Namensraum `std`,\n",
    "um einen String auszugeben:\n",
    "\n",
    "```cpp\n",
    "std::cout << \"Hallo Welt\" << std::endl;\n",
    "```\n",
    "\n",
    "- `std::cout` ist ein *Ausgabestream*, der mit dem Standardausgabegerät (in der Regel der Konsole) verbunden ist.\n",
    "- `<<` ist der *Einfügeoperator*, der verwendet wird, um Daten in den Ausgabestream zu schreiben.\n",
    "- `\"Hallo Welt\"` ist der String, der ausgegeben wird.\n",
    "- `std::endl` ist ein *Manipulator*, der den Ausgabepuffer leert und eine neue Zeile erzeugt.\n",
    "\n",
    "Vor der eigentlichen `main`-Funktion haben wir eine `#include`-Direktive, die den *Header* `<iostream>` einfügt.\n",
    "Header-Dateien sind Dateien, die Definitionen und Deklarationen enthalten,\n",
    "die in mehreren Quelldateien verwendet werden können.\n",
    "Der Header `iostream` enthält die Definitionen für die Ein- und Ausgabeströme in C++,\n",
    "also in diesem Fall `std::cout` und `std::endl`.\n",
    "\n",
    "\n",
    "```cpp\n",
    "#include <iostream>\n",
    "```\n",
    "\n",
    "Der Header `<iostream>` ist ein Teil der C++-Standardbibliothek und wird mit dem Compiler mitgeliefert.\n",
    "Es gibt eine Reihe solcher Standard-Header, die in C++ verwendet werden können,\n",
    "wir werden bspw. häufig die Header `<string>` und `<vector>` für Standard-Datenstrukturen verwenden,\n",
    "oder den Header `<algorithm>` für Funktionen, die mit diesen Datenstrukturen arbeiten.\n",
    "Außerdem werden wir auch eigene Header-Dateien erstellen,\n",
    "um unsere eigenen Funktionen und Klassen zu definieren."
   ]
  },
  {
   "cell_type": "markdown",
   "id": "b8d73aee",
   "metadata": {},
   "source": [
    "**Anmerkungen:**\n",
    "\n",
    "- Code-Zellen können mit SHIFT+ENTER ausgeführt werden.\n",
    "- Sie können den Inhalt einer Code-Zelle auch abändern und dann erneut ausführen,\n",
    "  um mit den Beispielen hier zu experimentieren.\n",
    "- Eine Funktion kann, wie in normalen C++-Programmen auch, nur einmal definiert werden.\n",
    "  - D.h. wenn Sie eine Zelle ausführen, in der eine Funktion definiert wird,\n",
    "    die bereits existiert, erhalten Sie eine Fehlermeldung.\n",
    "  - Dies kann insbesondere dann passieren, wenn Sie eine Funktion verändern\n",
    "    und dann die Zelle erneut ausführen, um die geänderte Funktion zu definieren.\n",
    "  - In diesem Fall müssen Sie den Kernel neu starten,\n",
    "    z.B. mit dem entsprechenden Eintrag in der Symbolleiste am oberen Rand des Notebooks.\n",
    "- Um derartige Probleme zu minimieren, werden wir in den folgenden Notebooks\n",
    "  nach Möglichkeit `#include`-Direktiven und vorgegebene Funktionen in separaten Zellen definieren."
   ]
  },
  {
   "cell_type": "markdown",
   "id": "3631f7f9",
   "metadata": {},
   "source": []
  }
 ],
 "metadata": {
  "kernelspec": {
   "display_name": "C++20",
   "language": "cpp",
   "name": "xcpp20"
  },
  "language_info": {
   "codemirror_mode": "text/x-c++src",
   "file_extension": ".cpp",
   "mimetype": "text/x-c++src",
   "name": "C++",
   "version": "20"
  }
 },
 "nbformat": 4,
 "nbformat_minor": 5
}

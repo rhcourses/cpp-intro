{
 "cells": [
  {
   "cell_type": "markdown",
   "id": "94fb5225",
   "metadata": {},
   "source": [
    "## Datentypen"
   ]
  },
  {
   "cell_type": "markdown",
   "id": "4dd3b119",
   "metadata": {},
   "source": [
    "### Grundlagen\n",
    "\n",
    "In den vorherigen Abschnitten wurden bereits einige *Datentypen* verwendet, z.B. `int` und `string`.\n",
    "\n",
    "Ein *Datentyp* beschreibt, welche Art von Werten eine Variable annehmen kann.\n",
    "`string` sind z.B. Zeichenketten, also Folgen von Buchstaben, Ziffern u.Ä.\n",
    " Die einzelnen Elemente eines Strings sind vom Typ `char` (einzelne Zeichen).\n",
    "\n",
    "Datentypen sind aus zwei Gründen wichtig:\n",
    "Einerseits beschreiben Sie das Speicher-Layout, also wie ein Wert im Speicher abgelegt wird,\n",
    "andererseits kann beim Übersetzen eines Programms überprüft werden, ob die verwendeten Datentypen\n",
    "zueinander passen, und so Fehler vermieden bzw. frühzeitig erkannt werden."
   ]
  },
  {
   "cell_type": "markdown",
   "id": "0add5fdc",
   "metadata": {},
   "source": [
    "### Grundlegende Datentypen\n",
    "\n",
    "Man unterscheided sog. *primitive* Datentypen und *komplexe* Datentypen.\n",
    "\n",
    "Primitive Datentypen sind die einfachsten Datentypen, die in einer Programmiersprache vorkommen.\n",
    "Meist sind sie in der Sprache selbst definiert und ihre Größe ist vorab festgelegt.\n",
    "Oft wissen Compiler bzw. Standardbibliotheken, wie sie mit diesen Datentypen umgehen müssen,\n",
    "wie sie z.B. auf die Konsole ausgegeben werden können.\n",
    "\n",
    "Komplexe Datentypen sind meist aus den primitiven Datentypen zusammengesetzt.\n",
    "Sie sind sog. *Klassen* und ihre Größe ist zunächst die Summe der Größen der enthaltenen\n",
    "Datentypen.\n",
    "\n",
    "Eine besondere Rolle spielen sog. *Container-Klassen*, die eine Sammlung von Werten\n",
    "eines bestimmten Typs enthalten. Dies können z.B. Listen, Mengen oder Zuordnungen sein.\n",
    "\n",
    "#### Wichtige Primitive Datentypen in C++\n",
    "\n",
    "| Typ      | Beschreibung                          | Beispiele                  |\n",
    "|----------|---------------------------------------|----------------------------|\n",
    "| `int`    | ganzzahliger Datentyp                 | `1`, `2`, `3`, `-4`, `-5`  |\n",
    "| `float`  | Gleitkommazahl                        | `1.0`, `2.5`, `-3.14`      |\n",
    "| `double` | Gleitkommazahl (doppelte Genauigkeit) |                            |\n",
    "| `bool`   | Wahrheitswert                         | `true`, `false`            |\n",
    "| `char`   | Zeichen                               | `'a'`, `'b'`, `'1'`, `'2'` |\n",
    "\n",
    "#### Wichtige Container-Klassen in C++\n",
    "\n",
    "| Typ      | Beschreibung                           | Beispiele                       |\n",
    "|----------|----------------------------------------|---------------------------------|\n",
    "| `string` | Zeichenkette                           | `\"Hallo\"`, `\"Welt\"`             |\n",
    "| `vector` | Liste von Werten (\"dynamisches Array\") | `vector<int>`, `vector<string>` |\n",
    "| `map`    | Zuordnung von Werten                   | `map<string, int>`              |\n",
    "| `set`    | Menge von Werten                       | `set<int>`                      |\n",
    "| `pair`   | Paar von Werten                        | `pair<int, string>`             |"
   ]
  },
  {
   "cell_type": "markdown",
   "id": "5add3e89",
   "metadata": {},
   "source": [
    "Die folgenden Code-Zellen sind Beispiele für die Verwendung der verschiedenen Datentypen.\n",
    "Hier werden Variablen definiert, Werte zugewiesen und die Werte (und tw. die Größen) ausgegeben.\n",
    "\n",
    "**Anmerkung/Erinnerung:** Da jede Variable nur einmal definiert werden kann, muss der Kernel\n",
    "jeweils neu gestartet werden, falls Sie die Zellen verändern und erneut ausführen wollen.\n",
    "\n",
    "Wir beginnen wieder mit den `include`-Anweisungen, die für das gesamte Notebook benötigt werden."
   ]
  },
  {
   "cell_type": "code",
   "execution_count": null,
   "id": "2c385bb7",
   "metadata": {
    "vscode": {
     "languageId": "cpp"
    }
   },
   "outputs": [],
   "source": [
    "#include <iostream>\n",
    "#include <vector>\n",
    "#include <string>\n",
    "#include <map>"
   ]
  },
  {
   "cell_type": "markdown",
   "id": "403a9b60",
   "metadata": {},
   "source": [
    "Variablen für primitive Datentypen:"
   ]
  },
  {
   "cell_type": "code",
   "execution_count": null,
   "id": "e6ccd90f",
   "metadata": {
    "vscode": {
     "languageId": "cpp"
    }
   },
   "outputs": [],
   "source": [
    "int i = 42; // Ganze Zahl\n",
    "float f = 3.14; // Fließkommazahl\n",
    "double d = 1.41; // Fließkommazahl (doppelte Genauigkeit)\n",
    "char c = 'A'; // Zeichen\n",
    "bool b = true; // Wahrheitswert\n",
    "\n",
    "std::cout << \"i: Wert \" << i << \", Größe \" << sizeof(i) << std::endl;\n",
    "std::cout << \"f: Wert \" << i << \", Größe \" << sizeof(f) << std::endl;\n",
    "std::cout << \"d: Wert \" << i << \", Größe \" << sizeof(d) << std::endl;\n",
    "std::cout << \"c: Wert \" << i << \", Größe \" << sizeof(c) << std::endl;\n",
    "std::cout << \"b: Wert \" << i << \", Größe \" << sizeof(b) << std::endl;"
   ]
  },
  {
   "cell_type": "markdown",
   "id": "4dcd76b3",
   "metadata": {},
   "source": [
    "Variablen für Container-Klassen:"
   ]
  },
  {
   "cell_type": "code",
   "execution_count": null,
   "id": "bf25718b",
   "metadata": {
    "vscode": {
     "languageId": "cpp"
    }
   },
   "outputs": [],
   "source": [
    "std::string s = \"Hallo\"; // Zeichenkette\n",
    "std::vector<int> v1 = {1, 2, 3}; // Vektor aus ganzen Zahlen\n",
    "std::vector<std::string> v2 = {\"Hallo\", \"du\", \"schöne\", \"Welt\"}; // Vektor aus Strings\n",
    "std::map<std::string, int> m1 = {{\"eins\", 1}, {\"zwei\", 2}, {\"drei\", 3}}; // Map aus Strings und ganzen Zahlen"
   ]
  },
  {
   "cell_type": "markdown",
   "id": "29e84252",
   "metadata": {},
   "source": [
    "Verwendung der Container:"
   ]
  },
  {
   "cell_type": "code",
   "execution_count": null,
   "id": "77ed6356",
   "metadata": {
    "vscode": {
     "languageId": "cpp"
    }
   },
   "outputs": [],
   "source": [
    "std::cout << \"Der gesamte String s: \" << s << std::endl;"
   ]
  },
  {
   "cell_type": "code",
   "execution_count": null,
   "id": "3001ec2f",
   "metadata": {
    "vscode": {
     "languageId": "cpp"
    }
   },
   "outputs": [],
   "source": [
    "std::cout << \"Die Werte des Vektors v1 einzeln ausgegeben: \";\n",
    "std::cout << v1[0] << \", \" << v1[1] << \", \" << v1[2] << std::endl;"
   ]
  },
  {
   "cell_type": "code",
   "execution_count": null,
   "id": "4dd4a829",
   "metadata": {
    "vscode": {
     "languageId": "cpp"
    }
   },
   "outputs": [],
   "source": [
    "std::cout << \"Die Werte des Vektors v1 addiert: \";\n",
    "std::cout << v1[0] + v1[1] + v1[2] + v1[3] << std::endl;"
   ]
  },
  {
   "cell_type": "code",
   "execution_count": null,
   "id": "e09abab1",
   "metadata": {
    "vscode": {
     "languageId": "cpp"
    }
   },
   "outputs": [],
   "source": [
    "std::cout << \"Die Werte des Vektors v2 einzeln ausgegeben: \";\n",
    "std:: cout << v2[0] << \", \" << v2[1] << \", \" << v2[2] << \", \" << v2[3] << std::endl;"
   ]
  },
  {
   "cell_type": "code",
   "execution_count": null,
   "id": "ab6f735c",
   "metadata": {
    "vscode": {
     "languageId": "cpp"
    }
   },
   "outputs": [],
   "source": [
    "std::cout << \"Die Werte des Vektors v2 zusammengesetzt: \";\n",
    "std:: cout << v2[0] + v2[1] + v2[2] + v2[3] << std::endl;"
   ]
  },
  {
   "cell_type": "code",
   "execution_count": null,
   "id": "1be7d5be",
   "metadata": {
    "vscode": {
     "languageId": "cpp"
    }
   },
   "outputs": [],
   "source": [
    "std::cout << \"Die Werte der Map m1: \";\n",
    "std::cout << m1[\"eins\"] << \", \" << m1[\"zwei\"] << \", \" << m1[\"drei\"] << std::endl;"
   ]
  }
 ],
 "metadata": {
  "kernelspec": {
   "display_name": "C++20",
   "language": "cpp",
   "name": "xcpp20"
  },
  "language_info": {
   "codemirror_mode": "text/x-c++src",
   "file_extension": ".cpp",
   "mimetype": "text/x-c++src",
   "name": "C++",
   "version": "20"
  }
 },
 "nbformat": 4,
 "nbformat_minor": 5
}

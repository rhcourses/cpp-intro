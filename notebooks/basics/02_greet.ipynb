{
 "cells": [
  {
   "cell_type": "markdown",
   "id": "94fb5225",
   "metadata": {},
   "source": [
    "## Eine Begrüßungsfunktion\n",
    "\n",
    "Als nächstes wollen wir das Hallo-Welt-Beispiel ein wenig flexibler gestalten:\n",
    "\n",
    "- Statt der `main`-Funktion soll eine Funktion `greeting` definiert werden,\n",
    "  die einen Namen als Parameter entgegennimmt.\n",
    "  Diese Funktion soll den Begrüßungstext `Hallo <name>!` zusammensetzen.\n",
    "- Statt den Text direkt auszugeben, soll die Funktion den Text zurückgeben.\n",
    "- Die `greeting`-Funktion kann dann aufgerugen werden und ihr Ergebnis auf der Konsole\n",
    "  ausgegeben werden.\n",
    "  \n",
    "\n",
    "Da die Funktion einen String als Parameter erwartet und auch einen String liefert,\n",
    "brauchen wir neben dem `iostream`-Header auch den `string`-Header.\n",
    "\n",
    "Wir definieren nun in zwei Schritten zuerst die Funktion `greeting` und dann die `main`-Funktion."
   ]
  },
  {
   "cell_type": "code",
   "execution_count": null,
   "id": "0a3e9203",
   "metadata": {
    "vscode": {
     "languageId": "cpp"
    }
   },
   "outputs": [],
   "source": [
    "#include<string>\n",
    "\n",
    "std::string greeting(std::string name) {\n",
    "    return \"Hello \" + name + \"!\";\n",
    "}"
   ]
  },
  {
   "cell_type": "markdown",
   "id": "61088eaf",
   "metadata": {},
   "source": [
    "Diese Funktion kann nun direkt benutzt werden, um den Begrüßungstext auszugeben.\n",
    "Wir includieren zuerst den Header `iostream` und rufen dann die Funktion `greeting` auf\n",
    "verschiedene Arten auf."
   ]
  },
  {
   "cell_type": "code",
   "execution_count": null,
   "id": "a9318ad0",
   "metadata": {
    "vscode": {
     "languageId": "cpp"
    }
   },
   "outputs": [],
   "source": [
    "#include<iostream>"
   ]
  },
  {
   "cell_type": "markdown",
   "id": "05725900",
   "metadata": {},
   "source": [
    "Ein Hallo-Welt-Programm wie im vorherigen Beispiel könnte unter Verwendung der\n",
    "`greeting`-Funktion so aussehen:"
   ]
  },
  {
   "cell_type": "code",
   "execution_count": null,
   "id": "ca59c01a",
   "metadata": {
    "vscode": {
     "languageId": "cpp"
    }
   },
   "outputs": [],
   "source": [
    "#include<iostream>\n",
    "\n",
    "int main() {\n",
    "    std::cout << greeting(\"World\") << std::endl;\n",
    "    return 0;\n",
    "}"
   ]
  },
  {
   "cell_type": "markdown",
   "id": "d5d805b7",
   "metadata": {},
   "source": [
    "Hier wieder der Aufruf der `main`-Funktion, was dem Compilieren und Ausführen des Programms entspricht:"
   ]
  },
  {
   "cell_type": "code",
   "execution_count": null,
   "id": "5aab2d2d",
   "metadata": {
    "vscode": {
     "languageId": "cpp"
    }
   },
   "outputs": [],
   "source": [
    "main()"
   ]
  },
  {
   "cell_type": "markdown",
   "id": "6f004111",
   "metadata": {},
   "source": [
    "Statt die Funktion aus einer `main`-Funktion heraus aufzurufen,\n",
    "können wir sie hier in einem Notebook auch direkt aufrufen:"
   ]
  },
  {
   "cell_type": "code",
   "execution_count": null,
   "id": "c201ef9d",
   "metadata": {
    "vscode": {
     "languageId": "cpp"
    }
   },
   "outputs": [],
   "source": [
    "std::cout << greeting(\"C++\") << std::endl;"
   ]
  },
  {
   "cell_type": "markdown",
   "id": "be2678ee",
   "metadata": {},
   "source": [
    "**Anmerkungen:**\n",
    "\n",
    "In einem normalen Programm müsste jede Funktion (ggf. indirekt) aus einer `main`-Funktion heraus\n",
    "aufgerufen werden. Zusätzlich bzw. beim Entwickeln von Bibliotheken würde man Tests schreiben,\n",
    "aus denen die Funktionen verwendet werden."
   ]
  },
  {
   "cell_type": "markdown",
   "id": "6fb45dea",
   "metadata": {},
   "source": []
  }
 ],
 "metadata": {
  "kernelspec": {
   "display_name": "C++20",
   "language": "cpp",
   "name": "xcpp20"
  },
  "language_info": {
   "codemirror_mode": "text/x-c++src",
   "file_extension": ".cpp",
   "mimetype": "text/x-c++src",
   "name": "C++",
   "version": "20"
  }
 },
 "nbformat": 4,
 "nbformat_minor": 5
}

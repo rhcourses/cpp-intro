{
 "cells": [
  {
   "cell_type": "markdown",
   "id": "98d04f11",
   "metadata": {},
   "source": [
    "## Klassen\n",
    "\n",
    "Eine wichtige Möglichkeit, Code zu strukturieren, ist die Definition eigener Datentypen\n",
    "in Form von *Klassen*.\n",
    "\n",
    "Eine Klasse ist eine Art Bauplan für Objekte, die bestimmte Eigenschaften (Attribute) und\n",
    "Verhalten (Methoden) haben. Eine Klasse ist also eine Art Vorlage, die beschreibt, wie ein\n",
    "Objekt aussehen und sich verhalten soll."
   ]
  },
  {
   "cell_type": "code",
   "execution_count": null,
   "id": "a4d2f5af",
   "metadata": {
    "vscode": {
     "languageId": "cpp"
    }
   },
   "outputs": [],
   "source": [
    "#include <iostream>\n",
    "#include <vector>"
   ]
  },
  {
   "cell_type": "markdown",
   "id": "eba8f44d",
   "metadata": {},
   "source": [
    "**Beispiel:** Der folgende Code definiert eine Klasse `PointOfInterest`,\n",
    "die bspw. eine Sehenswürdigkeit in einem Reiseführer beschreibt.\n",
    "\n",
    "Eine Sehenswürdigkeit hat einen Namen, eine Beschreibung und einen Eintrittspreis.\n",
    "Außerdem gibt es einen *Konstruktor*, der die Attribute initialisiert,\n",
    "sowie eine Methode `display()`, die das Objekt menschenlesbar ausgibt."
   ]
  },
  {
   "cell_type": "code",
   "execution_count": null,
   "id": "42520f7d",
   "metadata": {
    "vscode": {
     "languageId": "cpp"
    }
   },
   "outputs": [],
   "source": [
    "struct PointOfInterest {\n",
    "    std::string name;\n",
    "    std::string description;\n",
    "    int entryFee;\n",
    "\n",
    "    PointOfInterest(std::string n, std::string d, int fee)\n",
    "        : name(n), description(d), entryFee(fee) {}\n",
    "    \n",
    "    void display() {\n",
    "        std::cout << \"Name:         \" << name << \"\\n\"\n",
    "                  << \"Beschreibung: \" << description << \"\\n\"\n",
    "                  << \"Eintritt:     \" << entryFee << \"€\\n\";\n",
    "    }\n",
    "};"
   ]
  },
  {
   "cell_type": "markdown",
   "id": "f12cb15c",
   "metadata": {},
   "source": [
    "Wir erzeugen nun einige Objekte vom Typ `PointOfInterest` und geben sie aus:"
   ]
  },
  {
   "cell_type": "code",
   "execution_count": null,
   "id": "d162a5d1",
   "metadata": {
    "vscode": {
     "languageId": "cpp"
    }
   },
   "outputs": [],
   "source": [
    "PointOfInterest p1(\"Eiffelturm\", \"Beeindruckende Stahlkonstruktion in Paris\", 42);\n",
    "PointOfInterest p2(\"Colosseum\", \"Antikes Amphitheater in Rom\", 23);\n",
    "PointOfInterest p3(\"DHBW Mannheim\", \"Hort des Wissens und der Weisheit\", 0);\n",
    "\n",
    "p1.display();\n",
    "p2.display();\n",
    "p3.display();"
   ]
  },
  {
   "cell_type": "markdown",
   "id": "f0d77794",
   "metadata": {},
   "source": [
    "Mit der Punkt-Notation greifen wir auf die Attribute und Methoden der Objekte zu.\n",
    "Wir können sie so auslesen oder verändern:"
   ]
  },
  {
   "cell_type": "code",
   "execution_count": null,
   "id": "f6816f89",
   "metadata": {
    "vscode": {
     "languageId": "cpp"
    }
   },
   "outputs": [],
   "source": [
    "p1.entryFee = 50;\n",
    "p1.display();"
   ]
  },
  {
   "cell_type": "markdown",
   "id": "9e4ce3c7",
   "metadata": {},
   "source": [
    "Instanzen selbst definierter Klassen können wie normale Variablen behandelt werden.\n",
    "Bspw. könnte eine Tour im Reiseführer eine Liste von Sehenswürdigkeiten enthalten:"
   ]
  },
  {
   "cell_type": "code",
   "execution_count": null,
   "id": "bbfaa4a4",
   "metadata": {
    "vscode": {
     "languageId": "cpp"
    }
   },
   "outputs": [],
   "source": [
    "std::vector<PointOfInterest> t1{p1, p2, p3};\n",
    "std::vector<PointOfInterest> t2{p3, p1};\n",
    "\n",
    "void print_tour(std::vector<PointOfInterest>& tour) {\n",
    "    for (auto& poi : tour) {\n",
    "        poi.display();\n",
    "        std::cout << \"------------------------\\n\";\n",
    "    }\n",
    "}\n",
    "\n",
    "print_tour(t1);\n",
    "print_tour(t2);\n"
   ]
  },
  {
   "cell_type": "markdown",
   "id": "ad8a4de2",
   "metadata": {},
   "source": [
    "**Aufgabe**\n",
    "\n",
    "Definieren Sie eine eigene Klasse `Tour`, die eine Liste von Sehenswürdigkeiten enthält.\n",
    "Die Klasse soll zusätzlich einen Namen und eine Beschreibung der Tour haben.\n",
    "\n",
    "Die Klasse soll eine Methode `display()` haben, die alle Sehenswürdigkeiten der Tour\n",
    "ausgibt (ähnlich wie im Beispiel oben).\n",
    "Zusätzlich soll die Klasse aber auch den Namen und die Beschreibung der Tour\n",
    "mit ausgeben.\n",
    "\n",
    "Sie können die Klasse anschließend noch erweitern,\n",
    "z.B. mit einer Methode `add_poi()`, die eine Sehenswürdigkeit zur Tour hinzufügt,\n",
    "oder einer Methode `remove_poi()`, die eine Sehenswürdigkeit aus der Tour entfernt."
   ]
  },
  {
   "cell_type": "markdown",
   "id": "cfd36d13",
   "metadata": {},
   "source": [
    "**Aufgabe**\n",
    "\n",
    "Verwenden Sie eine `std::map` oder `std::unordered_map`, um eine Abbildung\n",
    "von Personen auf Touren zu erstellen, die diese Personen gebucht haben.\n",
    "Erstellen Sie eine Funktion, die eine solche Map und einen Namen als Parameter\n",
    "entgegennimmt und die den Gesamtpreis aller Sehenswürdigkeiten der Touren\n",
    "dieser Person zurückgibt."
   ]
  }
 ],
 "metadata": {
  "kernelspec": {
   "display_name": "C++20",
   "language": "cpp",
   "name": "xcpp20"
  },
  "language_info": {
   "codemirror_mode": "text/x-c++src",
   "file_extension": ".cpp",
   "mimetype": "text/x-c++src",
   "name": "C++",
   "version": "20"
  }
 },
 "nbformat": 4,
 "nbformat_minor": 5
}

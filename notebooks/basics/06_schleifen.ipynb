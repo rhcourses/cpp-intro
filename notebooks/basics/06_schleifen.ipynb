{
 "cells": [
  {
   "cell_type": "markdown",
   "id": "98d04f11",
   "metadata": {},
   "source": [
    "## Schleifen\n",
    "\n",
    "Schleifen sind Kontrollstrukturen, die es ermöglichen, einen Codeblock mehrmals auszuführen.\n",
    "Die allgemeinste Form der Schleife benötigt eine *Bedingung*, die zu Beginn der Schleife\n",
    "überprüft wird und die bestimmt, ob die Schleife fortgesetzt wird oder nicht.\n",
    "Eine solche Schleife wird als *`while`-Schleife* bezeichnet und hat die folgende\n",
    "Syntax:\n",
    "\n",
    "```c++\n",
    "while (Bedingung) {\n",
    "    // Anweisungen, die wiederholt ausgeführt werden\n",
    "}\n",
    "```\n",
    "\n",
    "Etwas strukturierter ist die *`for`-Schleife*, bei der meistens eine Zählvariable\n",
    "verwendet wird, um die Anzahl der Wiederholungen zu steuern. Die `for`-Schleife\n",
    "hat die folgende Syntax:\n",
    "\n",
    "```c++\n",
    "for (Initialisierung; Bedingung; Inkrement) {\n",
    "    // Anweisungen, die wiederholt ausgeführt werden\n",
    "}\n",
    "```\n",
    "*Initialisierung* und *Inkrement* sind Anweisungen, die zu Beginn und am Ende\n",
    "der Schleife ausgeführt werden. Die *Bedingung* muss, wie bei der `while`-Schleife,\n",
    "zu `true` oder `false` ausgewertet werden.\n",
    "\n",
    "Die Initialisierung wird einmal zu Beginn der Schleife ausgeführt, die Bedingung\n",
    "wird vor jeder Wiederholung überprüft und das Inkrement wird am Ende jeder\n",
    "Wiederholung ausgeführt. Solange die Bedingung `true` ist, wird der Codeblock\n",
    "ausgeführt, andernfalls wird die Schleife beendet.\n",
    "\n",
    "Initialisierung und Inkrement werden oft verwendet, um eine Zählvariable zu definieren\n",
    "und nach jedem Schleifendurchlauf zu erhöhen oder zu verringern.\n",
    "Generell können diese Anweisungen aber beliebige Code-Blöcke enthalten."
   ]
  },
  {
   "cell_type": "code",
   "execution_count": null,
   "id": "a4d2f5af",
   "metadata": {
    "vscode": {
     "languageId": "cpp"
    }
   },
   "outputs": [],
   "source": [
    "#include <iostream>\n",
    "#include <vector>\n",
    "#include <string>"
   ]
  },
  {
   "cell_type": "markdown",
   "id": "eba8f44d",
   "metadata": {},
   "source": [
    "**Beispiel:** Der folgende Code gibt für jede Zahl von 0 bis 10 an, ob sie\n",
    "gerade oder ungerade ist.\n",
    "\n",
    "**Anmerkung:** Hier wird das Beispiel aus dem vorherigen Abschnitt verwendet,\n",
    "wobei statt der hartcodierten Zahlen nun der Schleifenzähler `i` verwendet wird."
   ]
  },
  {
   "cell_type": "code",
   "execution_count": null,
   "id": "1f269654",
   "metadata": {
    "vscode": {
     "languageId": "cpp"
    }
   },
   "outputs": [],
   "source": [
    "for (int i = 0; i < 10; i++) {\n",
    "    if (i % 2 == 0) {\n",
    "        std::cout << i << \" ist gerade\" << std::endl;\n",
    "    } else {\n",
    "        std::cout << i << \" ist ungerade\" << std::endl;\n",
    "    }\n",
    "}"
   ]
  },
  {
   "cell_type": "markdown",
   "id": "c6213507",
   "metadata": {},
   "source": [
    "**Beispiel:** Der folgende Code konstruiert einen Vector mit den ersten 10 ungeraden Zahlen.\n",
    "Die Zelle danach gibt den Vector aus."
   ]
  },
  {
   "cell_type": "code",
   "execution_count": null,
   "id": "98e78ebf",
   "metadata": {
    "vscode": {
     "languageId": "cpp"
    }
   },
   "outputs": [],
   "source": [
    "std::vector<int> zahlen;\n",
    "for (int i = 0; i < 10; i++) {\n",
    "    if (i % 2 != 0) {\n",
    "        zahlen.push_back(i);\n",
    "    }\n",
    "}"
   ]
  },
  {
   "cell_type": "code",
   "execution_count": null,
   "id": "3329fe90",
   "metadata": {
    "vscode": {
     "languageId": "cpp"
    }
   },
   "outputs": [],
   "source": [
    "for (int zahl : zahlen) {\n",
    "    std::cout << zahl << \" \";\n",
    "}"
   ]
  },
  {
   "cell_type": "markdown",
   "id": "9427857a",
   "metadata": {},
   "source": [
    "**Anmerkung/Aufgabe:** Die Schleife zur Ausgabe ist eine *Range-Schleife*.\n",
    "Dies ist eine vereinfachte Form der `for`-Schleife, die für Listen und ähnliche\n",
    "Datenstrukturen verwendet werden kann. Sie hat die folgende Syntax:\n",
    "\n",
    "```c++\n",
    "for (<type> element : container) {\n",
    "    // Anweisungen, die für jedes Element im Container ausgeführt werden\n",
    "}\n",
    "```\n",
    "\n",
    "Anstelle einer Zählvariablen bzw. Initialisierung/Inkrementierung besagt eine solche Schleife,\n",
    "dass automatisch über alle Elemente des Containers iteriert werden soll.\n",
    "Man muss dazu den Container benennen, über den iteriert werden soll\n",
    "und dem Element einen Namen geben.\n",
    "Die obige Range-Schleife ist äquivalent zur folgenden Zähler-Schleife:\n"
   ]
  },
  {
   "cell_type": "code",
   "execution_count": null,
   "id": "9c685f87",
   "metadata": {
    "vscode": {
     "languageId": "cpp"
    }
   },
   "outputs": [],
   "source": [
    "for (int i=0; i<zahlen.size(); i++) {\n",
    "    int zahl = zahlen[i];\n",
    "    std::cout << zahl << \" \";\n",
    "}"
   ]
  },
  {
   "cell_type": "markdown",
   "id": "67a9ec9c",
   "metadata": {},
   "source": [
    "**Kombiniertes Beispiel:**\n",
    "Die folgende Funktion erwartet eine Zahl `n` und gibt einen Vektor der ersten `n` ungeraden Zahlen zurück.\n",
    "Im Gegensatz zu dem losen Code vorher wird hier die Anzahl der Zahlen `n` als Parameter\n",
    "erwartet. Dadurch wird der Code wiederverwendbar und kann für beliebige Werte von `n` aufgerufen werden.\n",
    "\n",
    "Die Zellen darunter rufen die selbe Funktion mit verschiedenen Werten auf und geben die Ergebnisse aus.\n",
    "Für die einfache Ausgabe wird hier außerdem eine Hilfsfunktion `print_vector` definiert,\n",
    "die einen Vector erwartet und ihn ausgibt."
   ]
  },
  {
   "cell_type": "code",
   "execution_count": null,
   "id": "e6c31cc0",
   "metadata": {
    "vscode": {
     "languageId": "cpp"
    }
   },
   "outputs": [],
   "source": [
    "/// Liefert einen Vektor mit den ersten n ungeraden Zahlen.\n",
    "std::vector<int> odd_numbers(int n) {\n",
    "    std::vector<int> result;\n",
    "    for (int i = 1; i < n; i++) {\n",
    "        if (i % 2 != 0) {\n",
    "            result.push_back(i);\n",
    "        }\n",
    "    }\n",
    "    return result;\n",
    "}"
   ]
  },
  {
   "cell_type": "code",
   "execution_count": null,
   "id": "d0671a61",
   "metadata": {
    "vscode": {
     "languageId": "cpp"
    }
   },
   "outputs": [],
   "source": [
    "/// Erwartet einen Vector v von Zahlen und gibt ihn in der Form \"[ v[0] v[1] ... v[v.size()-1] ]\" aus.\n",
    "void print_vector(const std::vector<int>& v) {\n",
    "    std::cout << \"[ \";\n",
    "    for (size_t i = 0; i < v.size(); ++i) {\n",
    "        std::cout << v[i] << \" \";\n",
    "    }\n",
    "    std::cout << \"]\" << std::endl;\n",
    "}"
   ]
  },
  {
   "cell_type": "code",
   "execution_count": null,
   "id": "b329a96b",
   "metadata": {
    "vscode": {
     "languageId": "cpp"
    }
   },
   "outputs": [],
   "source": [
    "print_vector(odd_numbers(10));\n",
    "print_vector(odd_numbers(20));\n",
    "print_vector(odd_numbers(30));"
   ]
  },
  {
   "cell_type": "markdown",
   "id": "ef29242d",
   "metadata": {},
   "source": [
    "### Aufgaben\n",
    "\n",
    "Schreiben Sie leicht veränderte Varianten der Funktion `print_vector`, \n",
    "die die Vektoren in verschiedenen Formaten ausgeben.\n",
    "\n",
    "- `print_vector_comma`: Wie `print_vector`, aber die Elemente sind mit Kommas getrennt.\n",
    "- `print_vector_nospace`: Wie `print_vector`, aber ohne die Leerzeichen.\n",
    "- `print_vector_separator`: Wie `print_vector`, aber mit einem wählbaren Separator, der als Parameter übergeben wird.\n",
    "\n",
    "**Zusatzaufgabe bzw- Überlegung:**\n",
    "Implementieren Sie die obigen Funktionen, wenn möglich, mit einer Range-Schleife, wie sie im Beispiel weiter\n",
    "oben verwendet wird. Dies ist nicht für jede dieser Funktionen sinnvoll. Überlegen Sie sich,\n",
    "unter welchen Umständen eine Range-Schleife sinnvoll ist und wann nicht.\n",
    "\n",
    "Unten sind für die drei Funktionen Code-Gerüste vorgegeben. Darunter werden die Funktionen jeweils aufgerufen."
   ]
  },
  {
   "cell_type": "code",
   "execution_count": null,
   "id": "12d380d6",
   "metadata": {
    "vscode": {
     "languageId": "cpp"
    }
   },
   "outputs": [],
   "source": [
    "/// Erwartet einen Vector v von Zahlen und gibt ihn in der Form \"[ v[0], v[1], ... v[v.size()-1], ]\" aus.\n",
    "void print_vector_comma(const std::vector<int>& v) {\n",
    "    // TODO\n",
    "}"
   ]
  },
  {
   "cell_type": "markdown",
   "id": "f6db6ba6",
   "metadata": {},
   "source": [
    "Der Test unten sollte folgendes ausgeben:\n",
    "\n",
    "`[ 10, 20, 30, 40, 50 ]`"
   ]
  },
  {
   "cell_type": "code",
   "execution_count": null,
   "id": "2f80e763",
   "metadata": {
    "vscode": {
     "languageId": "cpp"
    }
   },
   "outputs": [],
   "source": [
    "print_vector_comma(std::vector{10,20,30,40,50})"
   ]
  },
  {
   "cell_type": "code",
   "execution_count": null,
   "id": "ba970404",
   "metadata": {
    "vscode": {
     "languageId": "cpp"
    }
   },
   "outputs": [],
   "source": [
    "/// Erwartet einen Vector v von Zahlen und gibt ihn in der Form \"[v[0] v[1] ... v[v.size()-1]]\" aus.\n",
    "void print_vector_nospace(const std::vector<int>& v) {\n",
    "    // TODO\n",
    "}"
   ]
  },
  {
   "cell_type": "code",
   "execution_count": null,
   "id": "1209a22a",
   "metadata": {
    "vscode": {
     "languageId": "cpp"
    }
   },
   "outputs": [],
   "source": [
    "print_vector_nospace(std::vector{10,20,30,40,50})"
   ]
  },
  {
   "cell_type": "markdown",
   "id": "4b61dc36",
   "metadata": {},
   "source": [
    "Der Test unten sollte folgendes ausgeben:\n",
    "\n",
    "`[1020304050]`"
   ]
  },
  {
   "cell_type": "code",
   "execution_count": null,
   "id": "4f18443b",
   "metadata": {
    "vscode": {
     "languageId": "cpp"
    }
   },
   "outputs": [],
   "source": [
    "/// Erwartet einen Vector v von Zahlen und gibt ihn in der Form \"[ v[0]sepv[1]sep...sepv[v.size()-1]]\" aus.\n",
    "void print_vector_separator(const std::vector<int>& v, std::string sep) {\n",
    "    // TODO\n",
    "}"
   ]
  },
  {
   "cell_type": "markdown",
   "id": "afc5e0d4",
   "metadata": {},
   "source": [
    "Der Test unten sollte folgendes ausgeben:\n",
    "\n",
    "`[10X20X30X40X50 ]`\n",
    "`[10 U 20 U 30 U 40 U 50]`\n",
    "`[10|20|30|40|50]`"
   ]
  },
  {
   "cell_type": "code",
   "execution_count": null,
   "id": "c154eaa8",
   "metadata": {
    "vscode": {
     "languageId": "cpp"
    }
   },
   "outputs": [],
   "source": [
    "print_vector_separator(std::vector{10,20,30,40,50}. \"X\")\n",
    "print_vector_separator(std::vector{10,20,30,40,50}. \" U \")\n",
    "print_vector_separator(std::vector{10,20,30,40,50}. \"|\")"
   ]
  }
 ],
 "metadata": {
  "kernelspec": {
   "display_name": "C++20",
   "language": "cpp",
   "name": "xcpp20"
  },
  "language_info": {
   "codemirror_mode": "text/x-c++src",
   "file_extension": ".cpp",
   "mimetype": "text/x-c++src",
   "name": "C++",
   "version": "20"
  }
 },
 "nbformat": 4,
 "nbformat_minor": 5
}

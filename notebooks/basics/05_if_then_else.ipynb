{
 "cells": [
  {
   "cell_type": "markdown",
   "id": "2ae4a0ec",
   "metadata": {},
   "source": [
    "## Bedingte Sprünge\n",
    "\n",
    "Die `if`-Anweisung erlaubt es, Bedingungen zu prüfen und den Programmfluss\n",
    "entsprechend zu steuern. Sie wird in der Form\n",
    "\n",
    "```c++\n",
    "if (Bedingung) {\n",
    "    // Anweisungen, die ausgeführt werden, wenn die Bedingung wahr ist\n",
    "} else {\n",
    "    // Anweisungen, die ausgeführt werden, wenn die Bedingung falsch ist\n",
    "}\n",
    "```\n",
    "verwendet. Die Bedingung ist ein Ausdruck, der entweder `true` oder `false`\n",
    "ergeben kann. Wenn die Bedingung `true` ist, werden die Anweisungen im ersten\n",
    "Block ausgeführt, andernfalls die Anweisungen im zweiten Block. Der zweite Block\n",
    "ist optional. Wenn er weggelassen wird, passiert nichts, wenn die Bedingung\n",
    "`false` ist."
   ]
  },
  {
   "cell_type": "code",
   "execution_count": null,
   "id": "a4d2f5af",
   "metadata": {
    "vscode": {
     "languageId": "cpp"
    }
   },
   "outputs": [],
   "source": [
    "#include <iostream>"
   ]
  },
  {
   "cell_type": "markdown",
   "id": "eba8f44d",
   "metadata": {},
   "source": [
    "**Beispiel:** Der folgende Code gibt für jede Zahl von 0 bis 2 an, ob sie\n",
    "gerade oder ungerade ist.\n",
    "\n",
    "**Anmerkung:**\n",
    "Dieses Beispiel demonstriert, wie man mit der `if`-Anweisung Bedingungen\n",
    "prüfen kann. Eine `if`-Anweisung, die - wie in diesem Fall - alleine steht und sich nicht\n",
    "auf Variablen bezieht bzw. Teil einer Funktion ist, wird in der Regel nicht\n",
    "sinnvoll sein, da man ja auch direkt Strings wie `\"0 ist gerade\"` oder `\"1 ist ungerade\"`\n",
    "ausgeben könnte.\n",
    "Das Beispiel wird im nächsten Abschnitt über Schleifen noch einmal aufgegriffen,\n",
    "wo es dann sinnvoller ist."
   ]
  },
  {
   "cell_type": "code",
   "execution_count": null,
   "id": "1f269654",
   "metadata": {
    "vscode": {
     "languageId": "cpp"
    }
   },
   "outputs": [],
   "source": [
    "if (0 % 2 == 0) {\n",
    "    std::cout << 0 << \" ist gerade\" << std::endl;\n",
    "} else {\n",
    "    std::cout << 0 << \" ist ungerade\" << std::endl;\n",
    "}\n",
    "if (1 % 2 == 0) {\n",
    "    std::cout << 1 << \" ist gerade\" << std::endl;\n",
    "} else {\n",
    "    std::cout << 1 << \" ist ungerade\" << std::endl;\n",
    "}\n",
    "if (2 % 2 == 0) {\n",
    "    std::cout << 2 << \" ist gerade\" << std::endl;\n",
    "} else {\n",
    "    std::cout << 2 << \" ist ungerade\" << std::endl;\n",
    "}"
   ]
  }
 ],
 "metadata": {
  "kernelspec": {
   "display_name": "C++20",
   "language": "cpp",
   "name": "xcpp20"
  },
  "language_info": {
   "codemirror_mode": "text/x-c++src",
   "file_extension": ".cpp",
   "mimetype": "text/x-c++src",
   "name": "C++",
   "version": "20"
  }
 },
 "nbformat": 4,
 "nbformat_minor": 5
}

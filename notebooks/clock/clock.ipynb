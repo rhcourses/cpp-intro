{
 "cells": [
  {
   "cell_type": "markdown",
   "id": "3c2f30a8",
   "metadata": {},
   "source": [
    "# Anzeige der Uhrzeit\n",
    "\n",
    "Dieses Mini-Projekt enthält Funktionen, die die aktuelle Stunde, Minute und Sekunde\n",
    "bestimmen. Unten wird dann die Uhrzeit in der Form `hh:mm:ss` ausgegeben.\n",
    "\n",
    "Die Basis für die Zeitbestimmung ist die Funktion `time()`,\n",
    "die die Anzahl der Sekunden liefert, die seit dem 1. Januar 1970 vergangen sind.\n",
    "Diese Zahl wird dann in Funktionen `seconds()`, `minutes()` und `hours()` umgewandelt.\n",
    "Die Funktion `time_string()` benutzt diese drei Funktionen,\n",
    "um die Uhrzeit als String in der Form `hh:mm:ss` zu liefern.\n",
    "\n",
    "**Anmekrung:**\n",
    "Im Verzeichnis `src/clock` befindet sich das gleiche Projekt in einer Form,\n",
    "wie es in einem echten Projekt aussehen könnte.\n",
    "D.h. mit einem Paar aus Header und Quelldatei für die Funktionen sowie\n",
    "einer separaten `main()`-Funktion in einer eigenen Datei."
   ]
  },
  {
   "cell_type": "code",
   "execution_count": null,
   "id": "c2ab7d94",
   "metadata": {
    "vscode": {
     "languageId": "cpp"
    }
   },
   "outputs": [],
   "source": [
    "#include <iostream>\n",
    "#include <string>"
   ]
  },
  {
   "cell_type": "code",
   "execution_count": null,
   "id": "5f56676d",
   "metadata": {
    "vscode": {
     "languageId": "cpp"
    }
   },
   "outputs": [],
   "source": [
    "/// Liefert die Sekunden der aktuellen Minute.\n",
    "unsigned int seconds() {\n",
    "    time_t now = time(0);\n",
    "    return now % 60;\n",
    "}"
   ]
  },
  {
   "cell_type": "code",
   "execution_count": null,
   "id": "0f73b9e1",
   "metadata": {
    "vscode": {
     "languageId": "cpp"
    }
   },
   "outputs": [],
   "source": [
    "/// Liefert die Minuten der aktuellen Stunde.\n",
    "unsigned int minutes() {\n",
    "    time_t now = time(0);\n",
    "    return (now / 60) % 60;\n",
    "}"
   ]
  },
  {
   "cell_type": "code",
   "execution_count": null,
   "id": "02074f64",
   "metadata": {
    "vscode": {
     "languageId": "cpp"
    }
   },
   "outputs": [],
   "source": [
    "\n",
    "/// Liefert die Stunden des aktuellen Tages.\n",
    "unsigned int hours() {\n",
    "    time_t now = time(0);\n",
    "    return (now / (60 * 60)) % 24;\n",
    "  }"
   ]
  },
  {
   "cell_type": "code",
   "execution_count": null,
   "id": "9817054c",
   "metadata": {
    "vscode": {
     "languageId": "cpp"
    }
   },
   "outputs": [],
   "source": [
    "\n",
    "/// Liefert die aktuelle Uhrzeit als String im Format \"hh:mm:ss\".\n",
    "std::string time_string() {\n",
    "    return std::to_string(hours()) + \":\" + std::to_string(minutes()) + \":\" + std::to_string(seconds());\n",
    "}"
   ]
  },
  {
   "cell_type": "code",
   "execution_count": null,
   "id": "03d268a6",
   "metadata": {
    "vscode": {
     "languageId": "cpp"
    }
   },
   "outputs": [],
   "source": [
    "std::cout << \"Uhrzeit: \" << time_string() << std::endl;"
   ]
  },
  {
   "cell_type": "markdown",
   "id": "93ada7da",
   "metadata": {},
   "source": [
    "**Aufgabe:**\n",
    "Schreiben Sie eine Funktion `to_binary()`, die eine Zahl in einen Binärstring umwandelt.\n",
    "Die Funktion `time_string_binary()` verwendet diese Funktion, um eine Binärdarstellung\n",
    "der Uhrzeit zu liefern."
   ]
  },
  {
   "cell_type": "code",
   "execution_count": null,
   "id": "0bf99263",
   "metadata": {
    "vscode": {
     "languageId": "cpp"
    }
   },
   "outputs": [],
   "source": [
    "std::string to_binary(int n) {\n",
    "    std::string binary;\n",
    "    while (n > 0) {\n",
    "        binary = (n % 2 == 0 ? \"0\" : \"1\") + binary;\n",
    "        n /= 2;\n",
    "    }\n",
    "    return binary;\n",
    "}"
   ]
  },
  {
   "cell_type": "markdown",
   "id": "13af1ac7",
   "metadata": {},
   "source": [
    "**Hinweis:**\n",
    "Um eine Zahl in einen Binärstring umzuwandeln, müssen Sie immer abwechselnd\n",
    "die letzte Binärziffer bestimmen und anschließend abschneiden.\n",
    "Die letzte Binärziffer ist 1, wenn die Zahl ungerade ist und 0, wenn sie gerade ist.\n",
    "\n",
    "Führen Sie die folgende Zelle als Beispiel dafür aus, wie man eine Binärdarstellung\n",
    "der Zahl 42 direkt auf die Konsole ausgeben kann.\n",
    "*Anmerkung:*  Die Zahl 42 ist in Binärdarstellung `101010`,\n",
    "hier wird sie aber umgekehrt ausgegeben, also `010101`."
   ]
  },
  {
   "cell_type": "code",
   "execution_count": null,
   "id": "14cd275c",
   "metadata": {
    "vscode": {
     "languageId": "cpp"
    }
   },
   "outputs": [],
   "source": [
    "int x = 42;\n",
    "\n",
    "std::cout << (x % 2 == 0 ? \"0\" : \"1\");\n",
    "x /= 2;\n",
    "std::cout << (x % 2 == 0 ? \"0\" : \"1\");\n",
    "x /= 2;\n",
    "std::cout << (x % 2 == 0 ? \"0\" : \"1\");\n",
    "x /= 2;\n",
    "std::cout << (x % 2 == 0 ? \"0\" : \"1\");\n",
    "x /= 2;\n",
    "std::cout << (x % 2 == 0 ? \"0\" : \"1\");\n",
    "x /= 2;\n",
    "std::cout << (x % 2 == 0 ? \"0\" : \"1\");\n"
   ]
  },
  {
   "cell_type": "markdown",
   "id": "fa626600",
   "metadata": {},
   "source": [
    "Wenn die Funktion `to_binary()` korrekt implementiert ist,\n",
    "sollte die folgende Funktion eine korrekte Ausgabe liefern."
   ]
  },
  {
   "cell_type": "code",
   "execution_count": null,
   "id": "519e1e55",
   "metadata": {
    "vscode": {
     "languageId": "cpp"
    }
   },
   "outputs": [],
   "source": [
    "/// Liefert die aktuelle Uhrzeit als Binärstring.\n",
    "std::string time_string_binary() {\n",
    "    return to_binary(hours()) + \"\\n\" + to_binary(minutes()) + \"\\n\" + to_binary(seconds());\n",
    "}"
   ]
  },
  {
   "cell_type": "code",
   "execution_count": null,
   "id": "13e323e6",
   "metadata": {
    "vscode": {
     "languageId": "cpp"
    }
   },
   "outputs": [],
   "source": [
    "std::cout << time_string() << std::endl;\n",
    "std::cout << time_string_binary() << std::endl;"
   ]
  }
 ],
 "metadata": {
  "kernelspec": {
   "display_name": "C++20",
   "language": "cpp",
   "name": "xcpp20"
  },
  "language_info": {
   "codemirror_mode": "text/x-c++src",
   "file_extension": ".cpp",
   "mimetype": "text/x-c++src",
   "name": "C++",
   "version": "20"
  }
 },
 "nbformat": 4,
 "nbformat_minor": 5
}
